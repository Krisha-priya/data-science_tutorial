{
  "nbformat": 4,
  "nbformat_minor": 0,
  "metadata": {
    "colab": {
      "provenance": [],
      "authorship_tag": "ABX9TyOtx1KBWPqLQ2HLPNUZmmvm",
      "include_colab_link": true
    },
    "kernelspec": {
      "name": "python3",
      "display_name": "Python 3"
    },
    "language_info": {
      "name": "python"
    }
  },
  "cells": [
    {
      "cell_type": "markdown",
      "metadata": {
        "id": "view-in-github",
        "colab_type": "text"
      },
      "source": [
        "<a href=\"https://colab.research.google.com/github/Krisha-priya/data-science_tutorial/blob/main/tutorial_1.ipynb\" target=\"_parent\"><img src=\"https://colab.research.google.com/assets/colab-badge.svg\" alt=\"Open In Colab\"/></a>"
      ]
    },
    {
      "cell_type": "code",
      "execution_count": 1,
      "metadata": {
        "id": "MMbSIt4avGEK"
      },
      "outputs": [],
      "source": [
        "import pandas as pd\n",
        "import statsmodels.api as sm\n",
        "from sklearn.model_selection import train_test_split\n",
        "from sklearn.metrics import mean_squared_error, r2_score\n",
        "import numpy as np"
      ]
    },
    {
      "cell_type": "code",
      "source": [
        "data = pd.read_csv(\"Advertising.csv\")"
      ],
      "metadata": {
        "id": "R70zRXchvK5z"
      },
      "execution_count": 3,
      "outputs": []
    },
    {
      "cell_type": "code",
      "source": [
        "X = data[['TV', 'radio', 'newspaper']]  # Independent variables\n",
        "y = data['sales']  # Dependent variable"
      ],
      "metadata": {
        "id": "pScilcx_vPej"
      },
      "execution_count": 4,
      "outputs": []
    },
    {
      "cell_type": "code",
      "source": [
        "X = sm.add_constant(X)\n",
        "X_train, X_test, y_train, y_test = train_test_split(X, y, test_size=0.2, random_state=42)"
      ],
      "metadata": {
        "id": "qEmGeXbawHHS"
      },
      "execution_count": 5,
      "outputs": []
    },
    {
      "cell_type": "code",
      "source": [
        "model = sm.OLS(y_train, X_train).fit()"
      ],
      "metadata": {
        "id": "-uGFifz9wTZO"
      },
      "execution_count": 6,
      "outputs": []
    },
    {
      "cell_type": "code",
      "source": [
        "predictions = model.predict(X_test)\n",
        "rse = np.sqrt(mean_squared_error(y_test, predictions))\n",
        "r_squared = r2_score(y_test, predictions)\n",
        "f_statistic = model.fvalue\n",
        "p_value = model.f_pvalue"
      ],
      "metadata": {
        "id": "A097ZQUZwW-B"
      },
      "execution_count": 7,
      "outputs": []
    },
    {
      "cell_type": "code",
      "source": [
        "print(\"Residual Standard Error (RSE):\", rse)\n",
        "print(\"R-squared (R²):\", r_squared)\n",
        "print(\"F-statistic:\", f_statistic)\n",
        "print(\"F-statistic p-value:\", p_value)\n",
        "print(model.summary())"
      ],
      "metadata": {
        "colab": {
          "base_uri": "https://localhost:8080/"
        },
        "id": "LrUpsuDBwaFk",
        "outputId": "9bfd8a74-0e99-4493-8b67-da40b9353d89"
      },
      "execution_count": 8,
      "outputs": [
        {
          "output_type": "stream",
          "name": "stdout",
          "text": [
            "Residual Standard Error (RSE): 1.78159966153345\n",
            "R-squared (R²): 0.899438024100912\n",
            "F-statistic: 446.56579448376715\n",
            "F-statistic p-value: 2.5286578483026567e-76\n",
            "                            OLS Regression Results                            \n",
            "==============================================================================\n",
            "Dep. Variable:                  sales   R-squared:                       0.896\n",
            "Model:                            OLS   Adj. R-squared:                  0.894\n",
            "Method:                 Least Squares   F-statistic:                     446.6\n",
            "Date:                Wed, 12 Mar 2025   Prob (F-statistic):           2.53e-76\n",
            "Time:                        09:48:56   Log-Likelihood:                -306.64\n",
            "No. Observations:                 160   AIC:                             621.3\n",
            "Df Residuals:                     156   BIC:                             633.6\n",
            "Df Model:                           3                                         \n",
            "Covariance Type:            nonrobust                                         \n",
            "==============================================================================\n",
            "                 coef    std err          t      P>|t|      [0.025      0.975]\n",
            "------------------------------------------------------------------------------\n",
            "const          2.9791      0.354      8.427      0.000       2.281       3.677\n",
            "TV             0.0447      0.002     28.544      0.000       0.042       0.048\n",
            "radio          0.1892      0.010     19.518      0.000       0.170       0.208\n",
            "newspaper      0.0028      0.007      0.392      0.696      -0.011       0.017\n",
            "==============================================================================\n",
            "Omnibus:                       67.697   Durbin-Watson:                   2.161\n",
            "Prob(Omnibus):                  0.000   Jarque-Bera (JB):              240.326\n",
            "Skew:                          -1.627   Prob(JB):                     6.52e-53\n",
            "Kurtosis:                       8.046   Cond. No.                         471.\n",
            "==============================================================================\n",
            "\n",
            "Notes:\n",
            "[1] Standard Errors assume that the covariance matrix of the errors is correctly specified.\n"
          ]
        }
      ]
    },
    {
      "cell_type": "code",
      "source": [
        "print(\"\\nComments on the values:\")\n",
        "print(f\"RSE: The RSE of {rse:.2f} indicates the average deviation of the predicted sales from the actual sales.\")\n",
        "print(f\"R-squared: The R-squared of {r_squared:.2f} means that approximately {r_squared * 100:.2f}% of the variance in sales is explained by the model.\")\n",
        "print(f\"F-statistic: The high F-statistic of {f_statistic:.2f} with a very low p-value of {p_value} suggests that the model is statistically significant.\")"
      ],
      "metadata": {
        "colab": {
          "base_uri": "https://localhost:8080/"
        },
        "id": "HIH6PC70wdJt",
        "outputId": "469c18f3-9704-4d0c-8eb9-ce54cbffe605"
      },
      "execution_count": 9,
      "outputs": [
        {
          "output_type": "stream",
          "name": "stdout",
          "text": [
            "\n",
            "Comments on the values:\n",
            "RSE: The RSE of 1.78 indicates the average deviation of the predicted sales from the actual sales.\n",
            "R-squared: The R-squared of 0.90 means that approximately 89.94% of the variance in sales is explained by the model.\n",
            "F-statistic: The high F-statistic of 446.57 with a very low p-value of 2.5286578483026567e-76 suggests that the model is statistically significant.\n"
          ]
        }
      ]
    },
    {
      "cell_type": "code",
      "source": [],
      "metadata": {
        "id": "4sD4wxBjwiXS"
      },
      "execution_count": null,
      "outputs": []
    }
  ]
}