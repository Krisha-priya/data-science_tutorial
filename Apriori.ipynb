{
  "nbformat": 4,
  "nbformat_minor": 0,
  "metadata": {
    "colab": {
      "provenance": [],
      "authorship_tag": "ABX9TyMI7cYxYVwFSwv6Ow+Jn2YL",
      "include_colab_link": true
    },
    "kernelspec": {
      "name": "python3",
      "display_name": "Python 3"
    },
    "language_info": {
      "name": "python"
    }
  },
  "cells": [
    {
      "cell_type": "markdown",
      "metadata": {
        "id": "view-in-github",
        "colab_type": "text"
      },
      "source": [
        "<a href=\"https://colab.research.google.com/github/Krisha-priya/data-science_tutorial/blob/main/Apriori.ipynb\" target=\"_parent\"><img src=\"https://colab.research.google.com/assets/colab-badge.svg\" alt=\"Open In Colab\"/></a>"
      ]
    },
    {
      "cell_type": "code",
      "execution_count": 1,
      "metadata": {
        "id": "KrY-Of5khn68"
      },
      "outputs": [],
      "source": [
        "from itertools import combinations\n",
        "\n",
        "def generate_candidates(itemsets, length):\n",
        "\n",
        "    return set([item1.union(item2) for item1 in itemsets for item2 in itemsets if len(item1.union(item2)) == length])\n",
        "\n",
        "\n",
        "def filter_candidates(transactions, candidates, min_support):\n",
        "\n",
        "    itemset_counts = {candidate: 0 for candidate in candidates}\n",
        "    for transaction in transactions:\n",
        "        for candidate in candidates:\n",
        "            if candidate.issubset(transaction):\n",
        "                itemset_counts[candidate] += 1\n",
        "    return {itemset: count for itemset, count in itemset_counts.items() if count >= min_support}"
      ]
    },
    {
      "cell_type": "code",
      "source": [
        "def apriori(transactions, min_support):\n",
        "    # Generate 1-itemsets\n",
        "    itemsets = set(frozenset([item]) for transaction in transactions for item in transaction)\n",
        "    frequent_itemsets = filter_candidates(transactions, itemsets, min_support)\n",
        "    result = dict(frequent_itemsets)\n",
        "\n",
        "    k = 2\n",
        "    while frequent_itemsets:\n",
        "        # Generate candidates of size k\n",
        "        candidates = generate_candidates(frequent_itemsets.keys(), k)\n",
        "        # Filter candidates\n",
        "        frequent_itemsets = filter_candidates(transactions, candidates, min_support)\n",
        "        result.update(frequent_itemsets)\n",
        "        k += 1\n",
        "    return result\n",
        "\n",
        "\n",
        "def association_rules(frequent_itemsets, min_confidence):\n",
        "\n",
        "    rules = []\n",
        "    for itemset in frequent_itemsets:\n",
        "        for length in range(1, len(itemset)):\n",
        "            for subset in combinations(itemset, length):\n",
        "                antecedent = frozenset(subset)\n",
        "                consequent = itemset - antecedent\n",
        "                support = frequent_itemsets[itemset]\n",
        "                confidence = support / frequent_itemsets[antecedent] if frequent_itemsets.get(antecedent) else 0\n",
        "                if confidence >= min_confidence:\n",
        "                    rules.append((antecedent, consequent, confidence))\n",
        "    return rules"
      ],
      "metadata": {
        "id": "9_amErTRhxik"
      },
      "execution_count": 2,
      "outputs": []
    },
    {
      "cell_type": "code",
      "source": [
        "transactions = [\n",
        "    {'milk', 'bread', 'butter'},\n",
        "    {'beer', 'bread'},\n",
        "    {'milk', 'bread', 'beer', 'butter'},\n",
        "    {'beer', 'butter'},\n",
        "    {'bread', 'butter'}\n",
        "]\n",
        "min_support = 2\n",
        "min_confidence = 0.6\n",
        "\n",
        "frequent_itemsets = apriori(transactions, min_support)\n",
        "rules = association_rules(frequent_itemsets, min_confidence)\n",
        "\n",
        "print(\"Frequent Itemsets:\", frequent_itemsets)\n",
        "print(\"Association Rules:\")\n",
        "for antecedent, consequent, confidence in rules:\n",
        "    print(f\"{set(antecedent)} -> {set(consequent)} (confidence: {confidence:.2f})\")"
      ],
      "metadata": {
        "colab": {
          "base_uri": "https://localhost:8080/"
        },
        "id": "a7unRQLNh3F9",
        "outputId": "9fa932fd-2b1f-4752-f741-0dc055a52688"
      },
      "execution_count": 3,
      "outputs": [
        {
          "output_type": "stream",
          "name": "stdout",
          "text": [
            "Frequent Itemsets: {frozenset({'butter'}): 4, frozenset({'bread'}): 4, frozenset({'beer'}): 3, frozenset({'milk'}): 2, frozenset({'milk', 'butter'}): 2, frozenset({'butter', 'beer'}): 2, frozenset({'milk', 'bread'}): 2, frozenset({'bread', 'butter'}): 3, frozenset({'bread', 'beer'}): 2, frozenset({'milk', 'bread', 'butter'}): 2}\n",
            "Association Rules:\n",
            "{'milk'} -> {'butter'} (confidence: 1.00)\n",
            "{'beer'} -> {'butter'} (confidence: 0.67)\n",
            "{'milk'} -> {'bread'} (confidence: 1.00)\n",
            "{'bread'} -> {'butter'} (confidence: 0.75)\n",
            "{'butter'} -> {'bread'} (confidence: 0.75)\n",
            "{'beer'} -> {'bread'} (confidence: 0.67)\n",
            "{'milk'} -> {'bread', 'butter'} (confidence: 1.00)\n",
            "{'milk', 'bread'} -> {'butter'} (confidence: 1.00)\n",
            "{'milk', 'butter'} -> {'bread'} (confidence: 1.00)\n",
            "{'bread', 'butter'} -> {'milk'} (confidence: 0.67)\n"
          ]
        }
      ]
    },
    {
      "cell_type": "code",
      "source": [],
      "metadata": {
        "id": "cqH8rnsjh6aw"
      },
      "execution_count": null,
      "outputs": []
    }
  ]
}