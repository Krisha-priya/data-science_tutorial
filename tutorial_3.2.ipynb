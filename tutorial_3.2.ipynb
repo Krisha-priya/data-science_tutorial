{
  "nbformat": 4,
  "nbformat_minor": 0,
  "metadata": {
    "colab": {
      "provenance": [],
      "authorship_tag": "ABX9TyM5syfyINketeqv3/KkAfC2",
      "include_colab_link": true
    },
    "kernelspec": {
      "name": "python3",
      "display_name": "Python 3"
    },
    "language_info": {
      "name": "python"
    }
  },
  "cells": [
    {
      "cell_type": "markdown",
      "metadata": {
        "id": "view-in-github",
        "colab_type": "text"
      },
      "source": [
        "<a href=\"https://colab.research.google.com/github/Krisha-priya/data-science_tutorial/blob/main/tutorial_3.2.ipynb\" target=\"_parent\"><img src=\"https://colab.research.google.com/assets/colab-badge.svg\" alt=\"Open In Colab\"/></a>"
      ]
    },
    {
      "cell_type": "code",
      "source": [
        "import numpy as np\n",
        "import matplotlib.pyplot as plt"
      ],
      "metadata": {
        "id": "4CoE1wdmAlpT"
      },
      "execution_count": 4,
      "outputs": []
    },
    {
      "cell_type": "code",
      "source": [
        "# Step 1: Create the data\n",
        "# Example data: 2 classes with 2 features\n",
        "X = np.array([[1, 2], [2, 3], [3, 3],  # Class 0\n",
        "              [5, 6], [6, 7], [7, 8]])  # Class 1\n",
        "y = np.array([0, 0, 0, 1, 1, 1])  # Class labels"
      ],
      "metadata": {
        "id": "LFuqXK8sBfsi"
      },
      "execution_count": 5,
      "outputs": []
    },
    {
      "cell_type": "code",
      "source": [
        "# Step 2: Calculate the means\n",
        "mean_overall = np.mean(X, axis=0)\n",
        "mean_class_0 = np.mean(X[y == 0], axis=0)\n",
        "mean_class_1 = np.mean(X[y == 1], axis=0)"
      ],
      "metadata": {
        "id": "oN4CwaoKBkdH"
      },
      "execution_count": 6,
      "outputs": []
    },
    {
      "cell_type": "code",
      "source": [
        "# Step 3: Compute the Within-Class Scatter Matrix\n",
        "S_W = np.zeros((2, 2))\n",
        "for i in range(len(X)):\n",
        "    if y[i] == 0:\n",
        "        diff = (X[i] - mean_class_0).reshape(2, 1)\n",
        "        S_W += diff.dot(diff.T)\n",
        "    else:\n",
        "        diff = (X[i] - mean_class_1).reshape(2, 1)\n",
        "        S_W += diff.dot(diff.T)"
      ],
      "metadata": {
        "id": "l3ASOY5MBnfR"
      },
      "execution_count": 7,
      "outputs": []
    },
    {
      "cell_type": "code",
      "source": [
        "# Step 4: Compute the Between-Class Scatter Matrix\n",
        "S_B = np.zeros((2, 2))\n",
        "n_class_0 = np.sum(y == 0)\n",
        "n_class_1 = np.sum(y == 1)\n",
        "\n",
        "mean_diff_0 = (mean_class_0 - mean_overall).reshape(2, 1)\n",
        "S_B += n_class_0 * mean_diff_0.dot(mean_diff_0.T)\n",
        "\n",
        "mean_diff_1 = (mean_class_1 - mean_overall).reshape(2, 1)\n",
        "S_B += n_class_1 * mean_diff_1.dot(mean_diff_1.T)"
      ],
      "metadata": {
        "id": "tKZMQLdvBqat"
      },
      "execution_count": 8,
      "outputs": []
    },
    {
      "cell_type": "code",
      "source": [
        "# Step 5: Compute the Eigenvalues and Eigenvectors\n",
        "# Use np.linalg.pinv to avoid issues with singular matrices\n",
        "eigenvalues, eigenvectors = np.linalg.eig(np.linalg.pinv(S_W).dot(S_B))"
      ],
      "metadata": {
        "id": "V9j786_sBtpG"
      },
      "execution_count": 9,
      "outputs": []
    },
    {
      "cell_type": "code",
      "source": [
        "# Step 6: Sort the Eigenvalues and Eigenvectors\n",
        "sorted_indices = np.argsort(eigenvalues)[::-1]\n",
        "eigenvalues = eigenvalues[sorted_indices]\n",
        "eigenvectors = eigenvectors[:, sorted_indices]"
      ],
      "metadata": {
        "id": "AP5YSQHhBxZd"
      },
      "execution_count": 10,
      "outputs": []
    },
    {
      "cell_type": "code",
      "source": [
        "# Step 7: Project the data onto the new space\n",
        "X_lda = X.dot(eigenvectors[:, :1])  # Take the first eigenvector"
      ],
      "metadata": {
        "id": "cE4YkUECB1U6"
      },
      "execution_count": 11,
      "outputs": []
    },
    {
      "cell_type": "code",
      "source": [
        "#results..\n",
        "plt.figure(figsize=(8, 6))\n",
        "plt.scatter(X_lda[y == 0], np.zeros((n_class_0,)), color='red', label='Class 0')\n",
        "plt.scatter(X_lda[y == 1], np.zeros((n_class_1,)), color='blue', label='Class 1')\n",
        "plt.title('LDA Projection')\n",
        "plt.xlabel('LD1')\n",
        "plt.yticks([])\n",
        "plt.legend()\n",
        "plt.grid()\n",
        "plt.show()"
      ],
      "metadata": {
        "colab": {
          "base_uri": "https://localhost:8080/",
          "height": 564
        },
        "id": "JWyWg63hB37Q",
        "outputId": "e79d6966-5e66-452c-8932-5414a8f8d3d7"
      },
      "execution_count": 12,
      "outputs": [
        {
          "output_type": "display_data",
          "data": {
            "text/plain": [
              "<Figure size 800x600 with 1 Axes>"
            ],
            "image/png": "[encoded data removed]"
          },
          "metadata": {}
        }
      ]
    },
    {
      "cell_type": "code",
      "source": [],
      "metadata": {
        "id": "c9mpSB_cB9xN"
      },
      "execution_count": null,
      "outputs": []
    }
  ]
}